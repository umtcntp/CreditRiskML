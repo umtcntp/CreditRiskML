{
 "cells": [
  {
   "cell_type": "code",
   "execution_count": 11,
   "id": "c9a10199",
   "metadata": {},
   "outputs": [],
   "source": [
    "#Step 1: Data Exploration\n",
    "import pandas as pd\n",
    "\n",
    "# Load the dataset\n",
    "df = pd.read_csv('credit_risk_dataset.csv')\n"
   ]
  },
  {
   "cell_type": "code",
   "execution_count": 20,
   "id": "95f0f0e7",
   "metadata": {},
   "outputs": [
    {
     "name": "stdout",
     "output_type": "stream",
     "text": [
      "<class 'pandas.core.frame.DataFrame'>\n",
      "RangeIndex: 32581 entries, 0 to 32580\n",
      "Data columns (total 12 columns):\n",
      " #   Column                      Non-Null Count  Dtype  \n",
      "---  ------                      --------------  -----  \n",
      " 0   person_age                  32581 non-null  int64  \n",
      " 1   person_income               32581 non-null  int64  \n",
      " 2   person_home_ownership       32581 non-null  object \n",
      " 3   person_emp_length           31686 non-null  float64\n",
      " 4   loan_intent                 32581 non-null  object \n",
      " 5   loan_grade                  32581 non-null  object \n",
      " 6   loan_amnt                   32581 non-null  int64  \n",
      " 7   loan_int_rate               29465 non-null  float64\n",
      " 8   loan_status                 32581 non-null  int64  \n",
      " 9   loan_percent_income         32581 non-null  float64\n",
      " 10  cb_person_default_on_file   32581 non-null  object \n",
      " 11  cb_person_cred_hist_length  32581 non-null  int64  \n",
      "dtypes: float64(3), int64(5), object(4)\n",
      "memory usage: 3.0+ MB\n",
      "None\n",
      "This dataset have 32581 rows and 12 columns.\n"
     ]
    }
   ],
   "source": [
    "# Display basic information about the dataset\n",
    "print(df.info())\n",
    "\n",
    "#Dataset size\n",
    "data_rows = df.shape[0]\n",
    "data_colunms = df.shape[1]\n",
    "\n",
    "print(f'This dataset have {data_rows} rows and {data_colunms} columns.')"
   ]
  },
  {
   "cell_type": "code",
   "execution_count": 26,
   "id": "3643c2ea",
   "metadata": {},
   "outputs": [
    {
     "data": {
      "image/png": "[encoded data removed]",
      "text/plain": [
       "<Figure size 720x360 with 4 Axes>"
      ]
     },
     "metadata": {
      "needs_background": "light"
     },
     "output_type": "display_data"
    }
   ],
   "source": [
    "#Null values\n",
    "df.isnull().sum()\n",
    "\n",
    "#N/A values\n",
    "df.isna().sum()\n",
    "\n",
    "#Summary statistics\n",
    "df.describe()\n",
    "\n",
    "#We can see that the maximum age is 144 years, so probabilly it is an outlier\n",
    "features = ['person_age','person_emp_length','loan_percent_income','cb_person_cred_hist_length']\n",
    "plt.figure(figsize=(10,5))\n",
    "for i in range(0,len(features)):\n",
    "    plt.subplot(1, len(features), i + 1)\n",
    "    sns.boxplot(y=df[features[i]], color='CornflowerBlue', orient='v')\n",
    "    plt.tight_layout()"
   ]
  },
  {
   "cell_type": "code",
   "execution_count": 27,
   "id": "6ad5def2",
   "metadata": {},
   "outputs": [
    {
     "data": {
      "text/html": [
       "<div>\n",
       "<style scoped>\n",
       "    .dataframe tbody tr th:only-of-type {\n",
       "        vertical-align: middle;\n",
       "    }\n",
       "\n",
       "    .dataframe tbody tr th {\n",
       "        vertical-align: top;\n",
       "    }\n",
       "\n",
       "    .dataframe thead th {\n",
       "        text-align: right;\n",
       "    }\n",
       "</style>\n",
       "<table border=\"1\" class=\"dataframe\">\n",
       "  <thead>\n",
       "    <tr style=\"text-align: right;\">\n",
       "      <th></th>\n",
       "      <th>person_age</th>\n",
       "      <th>person_income</th>\n",
       "      <th>person_emp_length</th>\n",
       "      <th>loan_amnt</th>\n",
       "      <th>loan_int_rate</th>\n",
       "      <th>loan_percent_income</th>\n",
       "      <th>cb_person_cred_hist_length</th>\n",
       "      <th>loan_status</th>\n",
       "    </tr>\n",
       "  </thead>\n",
       "  <tbody>\n",
       "    <tr>\n",
       "      <th>person_age</th>\n",
       "      <td>1.000000</td>\n",
       "      <td>0.173202</td>\n",
       "      <td>0.163106</td>\n",
       "      <td>0.050787</td>\n",
       "      <td>0.012580</td>\n",
       "      <td>-0.042411</td>\n",
       "      <td>0.859133</td>\n",
       "      <td>-0.021629</td>\n",
       "    </tr>\n",
       "    <tr>\n",
       "      <th>person_income</th>\n",
       "      <td>0.173202</td>\n",
       "      <td>1.000000</td>\n",
       "      <td>0.134268</td>\n",
       "      <td>0.266820</td>\n",
       "      <td>0.000792</td>\n",
       "      <td>-0.254471</td>\n",
       "      <td>0.117987</td>\n",
       "      <td>-0.144449</td>\n",
       "    </tr>\n",
       "    <tr>\n",
       "      <th>person_emp_length</th>\n",
       "      <td>0.163106</td>\n",
       "      <td>0.134268</td>\n",
       "      <td>1.000000</td>\n",
       "      <td>0.113082</td>\n",
       "      <td>-0.056405</td>\n",
       "      <td>-0.054111</td>\n",
       "      <td>0.144699</td>\n",
       "      <td>-0.082489</td>\n",
       "    </tr>\n",
       "    <tr>\n",
       "      <th>loan_amnt</th>\n",
       "      <td>0.050787</td>\n",
       "      <td>0.266820</td>\n",
       "      <td>0.113082</td>\n",
       "      <td>1.000000</td>\n",
       "      <td>0.146813</td>\n",
       "      <td>0.572612</td>\n",
       "      <td>0.041967</td>\n",
       "      <td>0.105376</td>\n",
       "    </tr>\n",
       "    <tr>\n",
       "      <th>loan_int_rate</th>\n",
       "      <td>0.012580</td>\n",
       "      <td>0.000792</td>\n",
       "      <td>-0.056405</td>\n",
       "      <td>0.146813</td>\n",
       "      <td>1.000000</td>\n",
       "      <td>0.120314</td>\n",
       "      <td>0.016696</td>\n",
       "      <td>0.335133</td>\n",
       "    </tr>\n",
       "    <tr>\n",
       "      <th>loan_percent_income</th>\n",
       "      <td>-0.042411</td>\n",
       "      <td>-0.254471</td>\n",
       "      <td>-0.054111</td>\n",
       "      <td>0.572612</td>\n",
       "      <td>0.120314</td>\n",
       "      <td>1.000000</td>\n",
       "      <td>-0.031690</td>\n",
       "      <td>0.379366</td>\n",
       "    </tr>\n",
       "    <tr>\n",
       "      <th>cb_person_cred_hist_length</th>\n",
       "      <td>0.859133</td>\n",
       "      <td>0.117987</td>\n",
       "      <td>0.144699</td>\n",
       "      <td>0.041967</td>\n",
       "      <td>0.016696</td>\n",
       "      <td>-0.031690</td>\n",
       "      <td>1.000000</td>\n",
       "      <td>-0.015529</td>\n",
       "    </tr>\n",
       "    <tr>\n",
       "      <th>loan_status</th>\n",
       "      <td>-0.021629</td>\n",
       "      <td>-0.144449</td>\n",
       "      <td>-0.082489</td>\n",
       "      <td>0.105376</td>\n",
       "      <td>0.335133</td>\n",
       "      <td>0.379366</td>\n",
       "      <td>-0.015529</td>\n",
       "      <td>1.000000</td>\n",
       "    </tr>\n",
       "  </tbody>\n",
       "</table>\n",
       "</div>"
      ],
      "text/plain": [
       "                            person_age  person_income  person_emp_length  \\\n",
       "person_age                    1.000000       0.173202           0.163106   \n",
       "person_income                 0.173202       1.000000           0.134268   \n",
       "person_emp_length             0.163106       0.134268           1.000000   \n",
       "loan_amnt                     0.050787       0.266820           0.113082   \n",
       "loan_int_rate                 0.012580       0.000792          -0.056405   \n",
       "loan_percent_income          -0.042411      -0.254471          -0.054111   \n",
       "cb_person_cred_hist_length    0.859133       0.117987           0.144699   \n",
       "loan_status                  -0.021629      -0.144449          -0.082489   \n",
       "\n",
       "                            loan_amnt  loan_int_rate  loan_percent_income  \\\n",
       "person_age                   0.050787       0.012580            -0.042411   \n",
       "person_income                0.266820       0.000792            -0.254471   \n",
       "person_emp_length            0.113082      -0.056405            -0.054111   \n",
       "loan_amnt                    1.000000       0.146813             0.572612   \n",
       "loan_int_rate                0.146813       1.000000             0.120314   \n",
       "loan_percent_income          0.572612       0.120314             1.000000   \n",
       "cb_person_cred_hist_length   0.041967       0.016696            -0.031690   \n",
       "loan_status                  0.105376       0.335133             0.379366   \n",
       "\n",
       "                            cb_person_cred_hist_length  loan_status  \n",
       "person_age                                    0.859133    -0.021629  \n",
       "person_income                                 0.117987    -0.144449  \n",
       "person_emp_length                             0.144699    -0.082489  \n",
       "loan_amnt                                     0.041967     0.105376  \n",
       "loan_int_rate                                 0.016696     0.335133  \n",
       "loan_percent_income                          -0.031690     0.379366  \n",
       "cb_person_cred_hist_length                    1.000000    -0.015529  \n",
       "loan_status                                  -0.015529     1.000000  "
      ]
     },
     "execution_count": 27,
     "metadata": {},
     "output_type": "execute_result"
    }
   ],
   "source": [
    "#Analysing the correlation between variables\n",
    "variables = ['person_age','person_income','person_emp_length', 'loan_amnt', 'loan_int_rate', 'loan_percent_income', 'cb_person_cred_hist_length', 'loan_status']\n",
    "credit_risk_corr = df[variables].corr()\n",
    "credit_risk_corr"
   ]
  },
  {
   "cell_type": "code",
   "execution_count": 28,
   "id": "483f7878",
   "metadata": {},
   "outputs": [
    {
     "data": {
      "image/png": "[encoded data removed]",
      "text/plain": [
       "<Figure size 576x576 with 2 Axes>"
      ]
     },
     "metadata": {
      "needs_background": "light"
     },
     "output_type": "display_data"
    }
   ],
   "source": [
    "plt.figure(figsize=(8,8))\n",
    "sns.heatmap(credit_risk_corr, cmap='Blues', annot=True, fmt='.2f')\n",
    "plt.show()"
   ]
  },
  {
   "cell_type": "code",
   "execution_count": null,
   "id": "5c31d5e7",
   "metadata": {},
   "outputs": [],
   "source": [
    "#Variables with most correlation\n",
    "\n",
    "    #cb_person_cred_hist_length x person_age\n",
    "    #loan_percent_income x loan_amount\n",
    "    #person_income x loan_amount"
   ]
  },
  {
   "cell_type": "code",
   "execution_count": 29,
   "id": "1ea0296a",
   "metadata": {},
   "outputs": [
    {
     "name": "stdout",
     "output_type": "stream",
     "text": [
      "Total row of variable person_home_ownership\n",
      "RENT        16446\n",
      "MORTGAGE    13444\n",
      "OWN          2584\n",
      "OTHER         107\n",
      "Name: person_home_ownership, dtype: int64\n",
      "\n",
      "Total row of variable loan_intent\n",
      "EDUCATION            6453\n",
      "MEDICAL              6071\n",
      "VENTURE              5719\n",
      "PERSONAL             5521\n",
      "DEBTCONSOLIDATION    5212\n",
      "HOMEIMPROVEMENT      3605\n",
      "Name: loan_intent, dtype: int64\n",
      "\n",
      "Total row of variable loan_grade\n",
      "A    10777\n",
      "B    10451\n",
      "C     6458\n",
      "D     3626\n",
      "E      964\n",
      "F      241\n",
      "G       64\n",
      "Name: loan_grade, dtype: int64\n",
      "\n",
      "Total row of variable cb_person_default_on_file\n",
      "N    26836\n",
      "Y     5745\n",
      "Name: cb_person_default_on_file, dtype: int64\n",
      "\n"
     ]
    }
   ],
   "source": [
    "#Categorical Variables\n",
    "var_categorical = ['person_home_ownership', 'loan_intent', 'loan_grade', 'cb_person_default_on_file']\n",
    "for i in var_categorical:\n",
    "    print(f'Total row of variable {i}')\n",
    "    print(df[i].value_counts())\n",
    "    print()"
   ]
  },
  {
   "cell_type": "code",
   "execution_count": 30,
   "id": "d8bc49c1",
   "metadata": {},
   "outputs": [
    {
     "data": {
      "image/png": "[encoded data removed]",
      "text/plain": [
       "<Figure size 1080x648 with 4 Axes>"
      ]
     },
     "metadata": {
      "needs_background": "light"
     },
     "output_type": "display_data"
    }
   ],
   "source": [
    "#Analysing categorical variables with target\n",
    "plt.figure(figsize=(15,9))\n",
    "for i in range(0,len(var_categorical)):\n",
    "    plt.subplot(2,2,i + 1)\n",
    "    sns.countplot(data= df, x = var_categorical[i], hue='loan_status')\n",
    "    plt.tight_layout()"
   ]
  },
  {
   "cell_type": "code",
   "execution_count": 31,
   "id": "caa71159",
   "metadata": {},
   "outputs": [
    {
     "data": {
      "text/plain": [
       "81       144\n",
       "32297    144\n",
       "183      144\n",
       "747      123\n",
       "575      123\n",
       "32416     94\n",
       "32506     84\n",
       "32422     80\n",
       "32355     78\n",
       "32534     76\n",
       "Name: person_age, dtype: int64"
      ]
     },
     "execution_count": 31,
     "metadata": {},
     "output_type": "execute_result"
    }
   ],
   "source": [
    "#Step 2: Feature Engineering\n",
    "#Looking for the outliers\n",
    "df['person_age'].sort_values(ascending=False).head(10)\n"
   ]
  },
  {
   "cell_type": "code",
   "execution_count": 16,
   "id": "4f9d535b",
   "metadata": {},
   "outputs": [],
   "source": [
    "# Example: One-hot encoding for categorical variables\n",
    "selected_features = pd.get_dummies(selected_features, columns=['loan_grade'])\n"
   ]
  },
  {
   "cell_type": "code",
   "execution_count": 33,
   "id": "2ede3969",
   "metadata": {},
   "outputs": [
    {
     "data": {
      "text/plain": [
       "0        123.0\n",
       "210      123.0\n",
       "32355     41.0\n",
       "32515     38.0\n",
       "32428     34.0\n",
       "31866     31.0\n",
       "32263     31.0\n",
       "31867     31.0\n",
       "30914     31.0\n",
       "32562     30.0\n",
       "Name: person_emp_length, dtype: float64"
      ]
     },
     "execution_count": 33,
     "metadata": {},
     "output_type": "execute_result"
    }
   ],
   "source": [
    "df['person_emp_length'].sort_values(ascending=False).head(10)"
   ]
  },
  {
   "cell_type": "code",
   "execution_count": 35,
   "id": "d17c3c8c",
   "metadata": {},
   "outputs": [
    {
     "data": {
      "text/html": [
       "<div>\n",
       "<style scoped>\n",
       "    .dataframe tbody tr th:only-of-type {\n",
       "        vertical-align: middle;\n",
       "    }\n",
       "\n",
       "    .dataframe tbody tr th {\n",
       "        vertical-align: top;\n",
       "    }\n",
       "\n",
       "    .dataframe thead th {\n",
       "        text-align: right;\n",
       "    }\n",
       "</style>\n",
       "<table border=\"1\" class=\"dataframe\">\n",
       "  <thead>\n",
       "    <tr style=\"text-align: right;\">\n",
       "      <th></th>\n",
       "      <th>person_age</th>\n",
       "      <th>person_income</th>\n",
       "      <th>person_home_ownership</th>\n",
       "      <th>person_emp_length</th>\n",
       "      <th>loan_intent</th>\n",
       "      <th>loan_grade</th>\n",
       "      <th>loan_amnt</th>\n",
       "      <th>loan_int_rate</th>\n",
       "      <th>loan_status</th>\n",
       "      <th>loan_percent_income</th>\n",
       "      <th>cb_person_default_on_file</th>\n",
       "      <th>cb_person_cred_hist_length</th>\n",
       "    </tr>\n",
       "  </thead>\n",
       "  <tbody>\n",
       "  </tbody>\n",
       "</table>\n",
       "</div>"
      ],
      "text/plain": [
       "Empty DataFrame\n",
       "Columns: [person_age, person_income, person_home_ownership, person_emp_length, loan_intent, loan_grade, loan_amnt, loan_int_rate, loan_status, loan_percent_income, cb_person_default_on_file, cb_person_cred_hist_length]\n",
       "Index: []"
      ]
     },
     "execution_count": 35,
     "metadata": {},
     "output_type": "execute_result"
    }
   ],
   "source": [
    "#Drop outliers\n",
    "df.drop(df.loc[df['person_emp_length'] == 123].index, inplace=True)\n",
    "df.loc[df['person_emp_length'] == 123]"
   ]
  },
  {
   "cell_type": "code",
   "execution_count": 36,
   "id": "08c95bc3",
   "metadata": {},
   "outputs": [
    {
     "data": {
      "text/plain": [
       "Int64Index([], dtype='int64')"
      ]
     },
     "execution_count": 36,
     "metadata": {},
     "output_type": "execute_result"
    }
   ],
   "source": [
    "df.drop(df.loc[df['person_age'] >= 123].index, inplace=True)\n",
    "df.loc[df['person_age'] >= 123].index"
   ]
  },
  {
   "cell_type": "code",
   "execution_count": 37,
   "id": "84c416ad",
   "metadata": {},
   "outputs": [
    {
     "data": {
      "image/png": "[encoded data removed]",
      "text/plain": [
       "<Figure size 720x360 with 4 Axes>"
      ]
     },
     "metadata": {
      "needs_background": "light"
     },
     "output_type": "display_data"
    }
   ],
   "source": [
    "#Confirm there is no outliers \n",
    "features = ['person_age','person_emp_length','loan_percent_income','cb_person_cred_hist_length']\n",
    "plt.figure(figsize=(10,5))\n",
    "for i in range(0,len(features)):\n",
    "    plt.subplot(1, len(features), i + 1)\n",
    "    sns.boxplot(y=df[features[i]], color='CornflowerBlue', orient='v')\n",
    "    plt.tight_layout()"
   ]
  },
  {
   "cell_type": "code",
   "execution_count": 39,
   "id": "1cbbfd9a",
   "metadata": {},
   "outputs": [
    {
     "data": {
      "text/html": [
       "<div>\n",
       "<style scoped>\n",
       "    .dataframe tbody tr th:only-of-type {\n",
       "        vertical-align: middle;\n",
       "    }\n",
       "\n",
       "    .dataframe tbody tr th {\n",
       "        vertical-align: top;\n",
       "    }\n",
       "\n",
       "    .dataframe thead th {\n",
       "        text-align: right;\n",
       "    }\n",
       "</style>\n",
       "<table border=\"1\" class=\"dataframe\">\n",
       "  <thead>\n",
       "    <tr style=\"text-align: right;\">\n",
       "      <th></th>\n",
       "      <th>person_age</th>\n",
       "      <th>person_income</th>\n",
       "      <th>person_home_ownership</th>\n",
       "      <th>person_emp_length</th>\n",
       "      <th>loan_intent</th>\n",
       "      <th>loan_grade</th>\n",
       "      <th>loan_amnt</th>\n",
       "      <th>loan_int_rate</th>\n",
       "      <th>loan_status</th>\n",
       "      <th>loan_percent_income</th>\n",
       "      <th>cb_person_default_on_file</th>\n",
       "      <th>cb_person_cred_hist_length</th>\n",
       "    </tr>\n",
       "  </thead>\n",
       "  <tbody>\n",
       "    <tr>\n",
       "      <th>105</th>\n",
       "      <td>22</td>\n",
       "      <td>12600</td>\n",
       "      <td>MORTGAGE</td>\n",
       "      <td>NaN</td>\n",
       "      <td>PERSONAL</td>\n",
       "      <td>A</td>\n",
       "      <td>2000</td>\n",
       "      <td>5.42</td>\n",
       "      <td>1</td>\n",
       "      <td>0.16</td>\n",
       "      <td>N</td>\n",
       "      <td>4</td>\n",
       "    </tr>\n",
       "    <tr>\n",
       "      <th>222</th>\n",
       "      <td>24</td>\n",
       "      <td>185000</td>\n",
       "      <td>MORTGAGE</td>\n",
       "      <td>NaN</td>\n",
       "      <td>EDUCATION</td>\n",
       "      <td>B</td>\n",
       "      <td>35000</td>\n",
       "      <td>12.42</td>\n",
       "      <td>0</td>\n",
       "      <td>0.19</td>\n",
       "      <td>N</td>\n",
       "      <td>2</td>\n",
       "    </tr>\n",
       "    <tr>\n",
       "      <th>379</th>\n",
       "      <td>24</td>\n",
       "      <td>16800</td>\n",
       "      <td>MORTGAGE</td>\n",
       "      <td>NaN</td>\n",
       "      <td>DEBTCONSOLIDATION</td>\n",
       "      <td>A</td>\n",
       "      <td>3900</td>\n",
       "      <td>NaN</td>\n",
       "      <td>1</td>\n",
       "      <td>0.23</td>\n",
       "      <td>N</td>\n",
       "      <td>3</td>\n",
       "    </tr>\n",
       "    <tr>\n",
       "      <th>407</th>\n",
       "      <td>25</td>\n",
       "      <td>52000</td>\n",
       "      <td>RENT</td>\n",
       "      <td>NaN</td>\n",
       "      <td>PERSONAL</td>\n",
       "      <td>B</td>\n",
       "      <td>24000</td>\n",
       "      <td>10.74</td>\n",
       "      <td>1</td>\n",
       "      <td>0.46</td>\n",
       "      <td>N</td>\n",
       "      <td>2</td>\n",
       "    </tr>\n",
       "    <tr>\n",
       "      <th>408</th>\n",
       "      <td>22</td>\n",
       "      <td>17352</td>\n",
       "      <td>MORTGAGE</td>\n",
       "      <td>NaN</td>\n",
       "      <td>EDUCATION</td>\n",
       "      <td>C</td>\n",
       "      <td>2250</td>\n",
       "      <td>15.27</td>\n",
       "      <td>0</td>\n",
       "      <td>0.13</td>\n",
       "      <td>Y</td>\n",
       "      <td>3</td>\n",
       "    </tr>\n",
       "    <tr>\n",
       "      <th>...</th>\n",
       "      <td>...</td>\n",
       "      <td>...</td>\n",
       "      <td>...</td>\n",
       "      <td>...</td>\n",
       "      <td>...</td>\n",
       "      <td>...</td>\n",
       "      <td>...</td>\n",
       "      <td>...</td>\n",
       "      <td>...</td>\n",
       "      <td>...</td>\n",
       "      <td>...</td>\n",
       "      <td>...</td>\n",
       "    </tr>\n",
       "    <tr>\n",
       "      <th>32285</th>\n",
       "      <td>38</td>\n",
       "      <td>12000</td>\n",
       "      <td>OWN</td>\n",
       "      <td>NaN</td>\n",
       "      <td>EDUCATION</td>\n",
       "      <td>A</td>\n",
       "      <td>4800</td>\n",
       "      <td>7.29</td>\n",
       "      <td>1</td>\n",
       "      <td>0.40</td>\n",
       "      <td>N</td>\n",
       "      <td>12</td>\n",
       "    </tr>\n",
       "    <tr>\n",
       "      <th>32328</th>\n",
       "      <td>51</td>\n",
       "      <td>18408</td>\n",
       "      <td>RENT</td>\n",
       "      <td>NaN</td>\n",
       "      <td>PERSONAL</td>\n",
       "      <td>C</td>\n",
       "      <td>1000</td>\n",
       "      <td>14.65</td>\n",
       "      <td>1</td>\n",
       "      <td>0.05</td>\n",
       "      <td>Y</td>\n",
       "      <td>20</td>\n",
       "    </tr>\n",
       "    <tr>\n",
       "      <th>32360</th>\n",
       "      <td>70</td>\n",
       "      <td>39996</td>\n",
       "      <td>RENT</td>\n",
       "      <td>NaN</td>\n",
       "      <td>MEDICAL</td>\n",
       "      <td>C</td>\n",
       "      <td>3600</td>\n",
       "      <td>15.23</td>\n",
       "      <td>0</td>\n",
       "      <td>0.09</td>\n",
       "      <td>Y</td>\n",
       "      <td>19</td>\n",
       "    </tr>\n",
       "    <tr>\n",
       "      <th>32453</th>\n",
       "      <td>56</td>\n",
       "      <td>32400</td>\n",
       "      <td>RENT</td>\n",
       "      <td>NaN</td>\n",
       "      <td>MEDICAL</td>\n",
       "      <td>A</td>\n",
       "      <td>8575</td>\n",
       "      <td>7.51</td>\n",
       "      <td>0</td>\n",
       "      <td>0.26</td>\n",
       "      <td>N</td>\n",
       "      <td>18</td>\n",
       "    </tr>\n",
       "    <tr>\n",
       "      <th>32471</th>\n",
       "      <td>53</td>\n",
       "      <td>54000</td>\n",
       "      <td>RENT</td>\n",
       "      <td>NaN</td>\n",
       "      <td>MEDICAL</td>\n",
       "      <td>D</td>\n",
       "      <td>10000</td>\n",
       "      <td>14.59</td>\n",
       "      <td>1</td>\n",
       "      <td>0.19</td>\n",
       "      <td>Y</td>\n",
       "      <td>27</td>\n",
       "    </tr>\n",
       "  </tbody>\n",
       "</table>\n",
       "<p>895 rows × 12 columns</p>\n",
       "</div>"
      ],
      "text/plain": [
       "       person_age  person_income person_home_ownership  person_emp_length  \\\n",
       "105            22          12600              MORTGAGE                NaN   \n",
       "222            24         185000              MORTGAGE                NaN   \n",
       "379            24          16800              MORTGAGE                NaN   \n",
       "407            25          52000                  RENT                NaN   \n",
       "408            22          17352              MORTGAGE                NaN   \n",
       "...           ...            ...                   ...                ...   \n",
       "32285          38          12000                   OWN                NaN   \n",
       "32328          51          18408                  RENT                NaN   \n",
       "32360          70          39996                  RENT                NaN   \n",
       "32453          56          32400                  RENT                NaN   \n",
       "32471          53          54000                  RENT                NaN   \n",
       "\n",
       "             loan_intent loan_grade  loan_amnt  loan_int_rate  loan_status  \\\n",
       "105             PERSONAL          A       2000           5.42            1   \n",
       "222            EDUCATION          B      35000          12.42            0   \n",
       "379    DEBTCONSOLIDATION          A       3900            NaN            1   \n",
       "407             PERSONAL          B      24000          10.74            1   \n",
       "408            EDUCATION          C       2250          15.27            0   \n",
       "...                  ...        ...        ...            ...          ...   \n",
       "32285          EDUCATION          A       4800           7.29            1   \n",
       "32328           PERSONAL          C       1000          14.65            1   \n",
       "32360            MEDICAL          C       3600          15.23            0   \n",
       "32453            MEDICAL          A       8575           7.51            0   \n",
       "32471            MEDICAL          D      10000          14.59            1   \n",
       "\n",
       "       loan_percent_income cb_person_default_on_file  \\\n",
       "105                   0.16                         N   \n",
       "222                   0.19                         N   \n",
       "379                   0.23                         N   \n",
       "407                   0.46                         N   \n",
       "408                   0.13                         Y   \n",
       "...                    ...                       ...   \n",
       "32285                 0.40                         N   \n",
       "32328                 0.05                         Y   \n",
       "32360                 0.09                         Y   \n",
       "32453                 0.26                         N   \n",
       "32471                 0.19                         Y   \n",
       "\n",
       "       cb_person_cred_hist_length  \n",
       "105                             4  \n",
       "222                             2  \n",
       "379                             3  \n",
       "407                             2  \n",
       "408                             3  \n",
       "...                           ...  \n",
       "32285                          12  \n",
       "32328                          20  \n",
       "32360                          19  \n",
       "32453                          18  \n",
       "32471                          27  \n",
       "\n",
       "[895 rows x 12 columns]"
      ]
     },
     "execution_count": 39,
     "metadata": {},
     "output_type": "execute_result"
    }
   ],
   "source": [
    "df.loc[df['person_emp_length'].isna()]"
   ]
  },
  {
   "cell_type": "code",
   "execution_count": 40,
   "id": "e369bba0",
   "metadata": {},
   "outputs": [
    {
     "data": {
      "text/html": [
       "<div>\n",
       "<style scoped>\n",
       "    .dataframe tbody tr th:only-of-type {\n",
       "        vertical-align: middle;\n",
       "    }\n",
       "\n",
       "    .dataframe tbody tr th {\n",
       "        vertical-align: top;\n",
       "    }\n",
       "\n",
       "    .dataframe thead th {\n",
       "        text-align: right;\n",
       "    }\n",
       "</style>\n",
       "<table border=\"1\" class=\"dataframe\">\n",
       "  <thead>\n",
       "    <tr style=\"text-align: right;\">\n",
       "      <th></th>\n",
       "      <th>person_age</th>\n",
       "      <th>person_income</th>\n",
       "      <th>person_home_ownership</th>\n",
       "      <th>person_emp_length</th>\n",
       "      <th>loan_intent</th>\n",
       "      <th>loan_grade</th>\n",
       "      <th>loan_amnt</th>\n",
       "      <th>loan_int_rate</th>\n",
       "      <th>loan_status</th>\n",
       "      <th>loan_percent_income</th>\n",
       "      <th>cb_person_default_on_file</th>\n",
       "      <th>cb_person_cred_hist_length</th>\n",
       "    </tr>\n",
       "  </thead>\n",
       "  <tbody>\n",
       "    <tr>\n",
       "      <th>39</th>\n",
       "      <td>23</td>\n",
       "      <td>71500</td>\n",
       "      <td>RENT</td>\n",
       "      <td>3.0</td>\n",
       "      <td>DEBTCONSOLIDATION</td>\n",
       "      <td>D</td>\n",
       "      <td>30000</td>\n",
       "      <td>NaN</td>\n",
       "      <td>1</td>\n",
       "      <td>0.42</td>\n",
       "      <td>N</td>\n",
       "      <td>4</td>\n",
       "    </tr>\n",
       "    <tr>\n",
       "      <th>50</th>\n",
       "      <td>24</td>\n",
       "      <td>78000</td>\n",
       "      <td>RENT</td>\n",
       "      <td>4.0</td>\n",
       "      <td>DEBTCONSOLIDATION</td>\n",
       "      <td>D</td>\n",
       "      <td>30000</td>\n",
       "      <td>NaN</td>\n",
       "      <td>1</td>\n",
       "      <td>0.38</td>\n",
       "      <td>Y</td>\n",
       "      <td>4</td>\n",
       "    </tr>\n",
       "    <tr>\n",
       "      <th>57</th>\n",
       "      <td>23</td>\n",
       "      <td>277000</td>\n",
       "      <td>OWN</td>\n",
       "      <td>3.0</td>\n",
       "      <td>PERSONAL</td>\n",
       "      <td>A</td>\n",
       "      <td>35000</td>\n",
       "      <td>NaN</td>\n",
       "      <td>0</td>\n",
       "      <td>0.13</td>\n",
       "      <td>N</td>\n",
       "      <td>4</td>\n",
       "    </tr>\n",
       "    <tr>\n",
       "      <th>59</th>\n",
       "      <td>24</td>\n",
       "      <td>12000</td>\n",
       "      <td>OWN</td>\n",
       "      <td>2.0</td>\n",
       "      <td>VENTURE</td>\n",
       "      <td>E</td>\n",
       "      <td>1750</td>\n",
       "      <td>NaN</td>\n",
       "      <td>0</td>\n",
       "      <td>0.15</td>\n",
       "      <td>Y</td>\n",
       "      <td>3</td>\n",
       "    </tr>\n",
       "    <tr>\n",
       "      <th>62</th>\n",
       "      <td>26</td>\n",
       "      <td>263000</td>\n",
       "      <td>MORTGAGE</td>\n",
       "      <td>0.0</td>\n",
       "      <td>EDUCATION</td>\n",
       "      <td>B</td>\n",
       "      <td>10000</td>\n",
       "      <td>NaN</td>\n",
       "      <td>1</td>\n",
       "      <td>0.04</td>\n",
       "      <td>N</td>\n",
       "      <td>4</td>\n",
       "    </tr>\n",
       "    <tr>\n",
       "      <th>...</th>\n",
       "      <td>...</td>\n",
       "      <td>...</td>\n",
       "      <td>...</td>\n",
       "      <td>...</td>\n",
       "      <td>...</td>\n",
       "      <td>...</td>\n",
       "      <td>...</td>\n",
       "      <td>...</td>\n",
       "      <td>...</td>\n",
       "      <td>...</td>\n",
       "      <td>...</td>\n",
       "      <td>...</td>\n",
       "    </tr>\n",
       "    <tr>\n",
       "      <th>32547</th>\n",
       "      <td>53</td>\n",
       "      <td>4888</td>\n",
       "      <td>OWN</td>\n",
       "      <td>0.0</td>\n",
       "      <td>VENTURE</td>\n",
       "      <td>C</td>\n",
       "      <td>1400</td>\n",
       "      <td>NaN</td>\n",
       "      <td>1</td>\n",
       "      <td>0.29</td>\n",
       "      <td>Y</td>\n",
       "      <td>28</td>\n",
       "    </tr>\n",
       "    <tr>\n",
       "      <th>32552</th>\n",
       "      <td>65</td>\n",
       "      <td>45900</td>\n",
       "      <td>RENT</td>\n",
       "      <td>2.0</td>\n",
       "      <td>EDUCATION</td>\n",
       "      <td>C</td>\n",
       "      <td>10000</td>\n",
       "      <td>NaN</td>\n",
       "      <td>0</td>\n",
       "      <td>0.22</td>\n",
       "      <td>Y</td>\n",
       "      <td>19</td>\n",
       "    </tr>\n",
       "    <tr>\n",
       "      <th>32553</th>\n",
       "      <td>54</td>\n",
       "      <td>20000</td>\n",
       "      <td>RENT</td>\n",
       "      <td>2.0</td>\n",
       "      <td>MEDICAL</td>\n",
       "      <td>C</td>\n",
       "      <td>5000</td>\n",
       "      <td>NaN</td>\n",
       "      <td>0</td>\n",
       "      <td>0.25</td>\n",
       "      <td>N</td>\n",
       "      <td>28</td>\n",
       "    </tr>\n",
       "    <tr>\n",
       "      <th>32569</th>\n",
       "      <td>51</td>\n",
       "      <td>60000</td>\n",
       "      <td>MORTGAGE</td>\n",
       "      <td>1.0</td>\n",
       "      <td>PERSONAL</td>\n",
       "      <td>A</td>\n",
       "      <td>7500</td>\n",
       "      <td>NaN</td>\n",
       "      <td>0</td>\n",
       "      <td>0.13</td>\n",
       "      <td>N</td>\n",
       "      <td>23</td>\n",
       "    </tr>\n",
       "    <tr>\n",
       "      <th>32570</th>\n",
       "      <td>58</td>\n",
       "      <td>72000</td>\n",
       "      <td>RENT</td>\n",
       "      <td>5.0</td>\n",
       "      <td>HOMEIMPROVEMENT</td>\n",
       "      <td>B</td>\n",
       "      <td>4500</td>\n",
       "      <td>NaN</td>\n",
       "      <td>0</td>\n",
       "      <td>0.06</td>\n",
       "      <td>N</td>\n",
       "      <td>23</td>\n",
       "    </tr>\n",
       "  </tbody>\n",
       "</table>\n",
       "<p>3115 rows × 12 columns</p>\n",
       "</div>"
      ],
      "text/plain": [
       "       person_age  person_income person_home_ownership  person_emp_length  \\\n",
       "39             23          71500                  RENT                3.0   \n",
       "50             24          78000                  RENT                4.0   \n",
       "57             23         277000                   OWN                3.0   \n",
       "59             24          12000                   OWN                2.0   \n",
       "62             26         263000              MORTGAGE                0.0   \n",
       "...           ...            ...                   ...                ...   \n",
       "32547          53           4888                   OWN                0.0   \n",
       "32552          65          45900                  RENT                2.0   \n",
       "32553          54          20000                  RENT                2.0   \n",
       "32569          51          60000              MORTGAGE                1.0   \n",
       "32570          58          72000                  RENT                5.0   \n",
       "\n",
       "             loan_intent loan_grade  loan_amnt  loan_int_rate  loan_status  \\\n",
       "39     DEBTCONSOLIDATION          D      30000            NaN            1   \n",
       "50     DEBTCONSOLIDATION          D      30000            NaN            1   \n",
       "57              PERSONAL          A      35000            NaN            0   \n",
       "59               VENTURE          E       1750            NaN            0   \n",
       "62             EDUCATION          B      10000            NaN            1   \n",
       "...                  ...        ...        ...            ...          ...   \n",
       "32547            VENTURE          C       1400            NaN            1   \n",
       "32552          EDUCATION          C      10000            NaN            0   \n",
       "32553            MEDICAL          C       5000            NaN            0   \n",
       "32569           PERSONAL          A       7500            NaN            0   \n",
       "32570    HOMEIMPROVEMENT          B       4500            NaN            0   \n",
       "\n",
       "       loan_percent_income cb_person_default_on_file  \\\n",
       "39                    0.42                         N   \n",
       "50                    0.38                         Y   \n",
       "57                    0.13                         N   \n",
       "59                    0.15                         Y   \n",
       "62                    0.04                         N   \n",
       "...                    ...                       ...   \n",
       "32547                 0.29                         Y   \n",
       "32552                 0.22                         Y   \n",
       "32553                 0.25                         N   \n",
       "32569                 0.13                         N   \n",
       "32570                 0.06                         N   \n",
       "\n",
       "       cb_person_cred_hist_length  \n",
       "39                              4  \n",
       "50                              4  \n",
       "57                              4  \n",
       "59                              3  \n",
       "62                              4  \n",
       "...                           ...  \n",
       "32547                          28  \n",
       "32552                          19  \n",
       "32553                          28  \n",
       "32569                          23  \n",
       "32570                          23  \n",
       "\n",
       "[3115 rows x 12 columns]"
      ]
     },
     "execution_count": 40,
     "metadata": {},
     "output_type": "execute_result"
    }
   ],
   "source": [
    "df.loc[df['loan_int_rate'].isna()]"
   ]
  },
  {
   "cell_type": "code",
   "execution_count": 41,
   "id": "fe91565f",
   "metadata": {},
   "outputs": [],
   "source": [
    "#After drop outliers\n",
    "mean_person_emp_length = df['person_emp_length'].mean()\n",
    "mean_loan_int_rate = df['loan_int_rate'].mean()"
   ]
  },
  {
   "cell_type": "code",
   "execution_count": 42,
   "id": "0c66a873",
   "metadata": {},
   "outputs": [
    {
     "name": "stdout",
     "output_type": "stream",
     "text": [
      "Mean variable person_emp_length, 4.782063827772341 and loan_int_rate, 11.011528565123772.\n"
     ]
    }
   ],
   "source": [
    "print(f'Mean variable person_emp_length, {mean_person_emp_length} and loan_int_rate, {mean_loan_int_rate}.')"
   ]
  },
  {
   "cell_type": "code",
   "execution_count": 43,
   "id": "a1c3d059",
   "metadata": {},
   "outputs": [
    {
     "data": {
      "text/plain": [
       "0"
      ]
     },
     "execution_count": 43,
     "metadata": {},
     "output_type": "execute_result"
    }
   ],
   "source": [
    "#Fill na with mean\n",
    "df['person_emp_length'] = df['person_emp_length'].fillna(mean_person_emp_length) \n",
    "df['person_emp_length'].isna().sum()"
   ]
  },
  {
   "cell_type": "code",
   "execution_count": 44,
   "id": "ad32293f",
   "metadata": {},
   "outputs": [
    {
     "data": {
      "text/plain": [
       "0"
      ]
     },
     "execution_count": 44,
     "metadata": {},
     "output_type": "execute_result"
    }
   ],
   "source": [
    "df['loan_int_rate'] = df['loan_int_rate'].fillna(mean_loan_int_rate) \n",
    "df['loan_int_rate'].isna().sum()"
   ]
  },
  {
   "cell_type": "code",
   "execution_count": 45,
   "id": "55964c52",
   "metadata": {},
   "outputs": [
    {
     "name": "stdout",
     "output_type": "stream",
     "text": [
      "<class 'pandas.core.frame.DataFrame'>\n",
      "Int64Index: 32574 entries, 1 to 32580\n",
      "Data columns (total 12 columns):\n",
      " #   Column                      Non-Null Count  Dtype  \n",
      "---  ------                      --------------  -----  \n",
      " 0   person_age                  32574 non-null  int64  \n",
      " 1   person_income               32574 non-null  int64  \n",
      " 2   person_home_ownership       32574 non-null  object \n",
      " 3   person_emp_length           32574 non-null  float64\n",
      " 4   loan_intent                 32574 non-null  object \n",
      " 5   loan_grade                  32574 non-null  object \n",
      " 6   loan_amnt                   32574 non-null  int64  \n",
      " 7   loan_int_rate               32574 non-null  float64\n",
      " 8   loan_status                 32574 non-null  int64  \n",
      " 9   loan_percent_income         32574 non-null  float64\n",
      " 10  cb_person_default_on_file   32574 non-null  object \n",
      " 11  cb_person_cred_hist_length  32574 non-null  int64  \n",
      "dtypes: float64(3), int64(5), object(4)\n",
      "memory usage: 3.2+ MB\n"
     ]
    }
   ],
   "source": [
    "df.info()"
   ]
  },
  {
   "cell_type": "code",
   "execution_count": null,
   "id": "191d3dfc",
   "metadata": {},
   "outputs": [],
   "source": [
    "#Transform categorical variables"
   ]
  },
  {
   "cell_type": "code",
   "execution_count": 48,
   "id": "179c4662",
   "metadata": {},
   "outputs": [],
   "source": [
    "from sklearn.preprocessing import LabelEncoder\n",
    "def categorical_variables(df):\n",
    "    object_cols = ['person_home_ownership', 'loan_intent', 'loan_grade', 'cb_person_default_on_file']\n",
    "    label_encoder = LabelEncoder()\n",
    "    for col in object_cols:\n",
    "        df[col] = label_encoder.fit_transform(df[col])\n",
    "    return df"
   ]
  },
  {
   "cell_type": "code",
   "execution_count": 49,
   "id": "22348998",
   "metadata": {},
   "outputs": [
    {
     "data": {
      "text/html": [
       "<div>\n",
       "<style scoped>\n",
       "    .dataframe tbody tr th:only-of-type {\n",
       "        vertical-align: middle;\n",
       "    }\n",
       "\n",
       "    .dataframe tbody tr th {\n",
       "        vertical-align: top;\n",
       "    }\n",
       "\n",
       "    .dataframe thead th {\n",
       "        text-align: right;\n",
       "    }\n",
       "</style>\n",
       "<table border=\"1\" class=\"dataframe\">\n",
       "  <thead>\n",
       "    <tr style=\"text-align: right;\">\n",
       "      <th></th>\n",
       "      <th>person_age</th>\n",
       "      <th>person_income</th>\n",
       "      <th>person_home_ownership</th>\n",
       "      <th>person_emp_length</th>\n",
       "      <th>loan_intent</th>\n",
       "      <th>loan_grade</th>\n",
       "      <th>loan_amnt</th>\n",
       "      <th>loan_int_rate</th>\n",
       "      <th>loan_status</th>\n",
       "      <th>loan_percent_income</th>\n",
       "      <th>cb_person_default_on_file</th>\n",
       "      <th>cb_person_cred_hist_length</th>\n",
       "    </tr>\n",
       "  </thead>\n",
       "  <tbody>\n",
       "    <tr>\n",
       "      <th>1</th>\n",
       "      <td>21</td>\n",
       "      <td>9600</td>\n",
       "      <td>2</td>\n",
       "      <td>5.0</td>\n",
       "      <td>1</td>\n",
       "      <td>1</td>\n",
       "      <td>1000</td>\n",
       "      <td>11.14</td>\n",
       "      <td>0</td>\n",
       "      <td>0.10</td>\n",
       "      <td>0</td>\n",
       "      <td>2</td>\n",
       "    </tr>\n",
       "    <tr>\n",
       "      <th>2</th>\n",
       "      <td>25</td>\n",
       "      <td>9600</td>\n",
       "      <td>0</td>\n",
       "      <td>1.0</td>\n",
       "      <td>3</td>\n",
       "      <td>2</td>\n",
       "      <td>5500</td>\n",
       "      <td>12.87</td>\n",
       "      <td>1</td>\n",
       "      <td>0.57</td>\n",
       "      <td>0</td>\n",
       "      <td>3</td>\n",
       "    </tr>\n",
       "    <tr>\n",
       "      <th>3</th>\n",
       "      <td>23</td>\n",
       "      <td>65500</td>\n",
       "      <td>3</td>\n",
       "      <td>4.0</td>\n",
       "      <td>3</td>\n",
       "      <td>2</td>\n",
       "      <td>35000</td>\n",
       "      <td>15.23</td>\n",
       "      <td>1</td>\n",
       "      <td>0.53</td>\n",
       "      <td>0</td>\n",
       "      <td>2</td>\n",
       "    </tr>\n",
       "    <tr>\n",
       "      <th>4</th>\n",
       "      <td>24</td>\n",
       "      <td>54400</td>\n",
       "      <td>3</td>\n",
       "      <td>8.0</td>\n",
       "      <td>3</td>\n",
       "      <td>2</td>\n",
       "      <td>35000</td>\n",
       "      <td>14.27</td>\n",
       "      <td>1</td>\n",
       "      <td>0.55</td>\n",
       "      <td>1</td>\n",
       "      <td>4</td>\n",
       "    </tr>\n",
       "    <tr>\n",
       "      <th>5</th>\n",
       "      <td>21</td>\n",
       "      <td>9900</td>\n",
       "      <td>2</td>\n",
       "      <td>2.0</td>\n",
       "      <td>5</td>\n",
       "      <td>0</td>\n",
       "      <td>2500</td>\n",
       "      <td>7.14</td>\n",
       "      <td>1</td>\n",
       "      <td>0.25</td>\n",
       "      <td>0</td>\n",
       "      <td>2</td>\n",
       "    </tr>\n",
       "  </tbody>\n",
       "</table>\n",
       "</div>"
      ],
      "text/plain": [
       "   person_age  person_income  person_home_ownership  person_emp_length  \\\n",
       "1          21           9600                      2                5.0   \n",
       "2          25           9600                      0                1.0   \n",
       "3          23          65500                      3                4.0   \n",
       "4          24          54400                      3                8.0   \n",
       "5          21           9900                      2                2.0   \n",
       "\n",
       "   loan_intent  loan_grade  loan_amnt  loan_int_rate  loan_status  \\\n",
       "1            1           1       1000          11.14            0   \n",
       "2            3           2       5500          12.87            1   \n",
       "3            3           2      35000          15.23            1   \n",
       "4            3           2      35000          14.27            1   \n",
       "5            5           0       2500           7.14            1   \n",
       "\n",
       "   loan_percent_income  cb_person_default_on_file  cb_person_cred_hist_length  \n",
       "1                 0.10                          0                           2  \n",
       "2                 0.57                          0                           3  \n",
       "3                 0.53                          0                           2  \n",
       "4                 0.55                          1                           4  \n",
       "5                 0.25                          0                           2  "
      ]
     },
     "execution_count": 49,
     "metadata": {},
     "output_type": "execute_result"
    }
   ],
   "source": [
    "credit_df = categorical_variables(df)\n",
    "credit_df.head()"
   ]
  },
  {
   "cell_type": "code",
   "execution_count": 50,
   "id": "ad35cad4",
   "metadata": {},
   "outputs": [
    {
     "name": "stdout",
     "output_type": "stream",
     "text": [
      "<class 'pandas.core.frame.DataFrame'>\n",
      "Int64Index: 32574 entries, 1 to 32580\n",
      "Data columns (total 12 columns):\n",
      " #   Column                      Non-Null Count  Dtype  \n",
      "---  ------                      --------------  -----  \n",
      " 0   person_age                  32574 non-null  int64  \n",
      " 1   person_income               32574 non-null  int64  \n",
      " 2   person_home_ownership       32574 non-null  int32  \n",
      " 3   person_emp_length           32574 non-null  float64\n",
      " 4   loan_intent                 32574 non-null  int32  \n",
      " 5   loan_grade                  32574 non-null  int32  \n",
      " 6   loan_amnt                   32574 non-null  int64  \n",
      " 7   loan_int_rate               32574 non-null  float64\n",
      " 8   loan_status                 32574 non-null  int64  \n",
      " 9   loan_percent_income         32574 non-null  float64\n",
      " 10  cb_person_default_on_file   32574 non-null  int32  \n",
      " 11  cb_person_cred_hist_length  32574 non-null  int64  \n",
      "dtypes: float64(3), int32(4), int64(5)\n",
      "memory usage: 2.7 MB\n"
     ]
    }
   ],
   "source": [
    "credit_df.info()"
   ]
  },
  {
   "cell_type": "code",
   "execution_count": null,
   "id": "5a8f0e61",
   "metadata": {},
   "outputs": [],
   "source": [
    "#Applying Train_test_split"
   ]
  },
  {
   "cell_type": "code",
   "execution_count": 51,
   "id": "9bcbb9ed",
   "metadata": {},
   "outputs": [
    {
     "name": "stdout",
     "output_type": "stream",
     "text": [
      "[0 1 1 ... 1 0 0]\n"
     ]
    }
   ],
   "source": [
    "y = credit_df['loan_status'].values\n",
    "print(y)"
   ]
  },
  {
   "cell_type": "code",
   "execution_count": 54,
   "id": "57645600",
   "metadata": {},
   "outputs": [
    {
     "name": "stdout",
     "output_type": "stream",
     "text": [
      "[[2.10e+01 9.60e+03 2.00e+00 ... 1.00e-01 0.00e+00 2.00e+00]\n",
      " [2.50e+01 9.60e+03 0.00e+00 ... 5.70e-01 0.00e+00 3.00e+00]\n",
      " [2.30e+01 6.55e+04 3.00e+00 ... 5.30e-01 0.00e+00 2.00e+00]\n",
      " ...\n",
      " [6.50e+01 7.60e+04 3.00e+00 ... 4.60e-01 0.00e+00 2.80e+01]\n",
      " [5.60e+01 1.50e+05 0.00e+00 ... 1.00e-01 0.00e+00 2.60e+01]\n",
      " [6.60e+01 4.20e+04 3.00e+00 ... 1.50e-01 0.00e+00 3.00e+01]]\n"
     ]
    }
   ],
   "source": [
    "x_df = credit_df.drop('loan_status', axis=1)\n",
    "x = x_df.values\n",
    "print(x)"
   ]
  },
  {
   "cell_type": "code",
   "execution_count": 55,
   "id": "1c85290f",
   "metadata": {},
   "outputs": [
    {
     "name": "stdout",
     "output_type": "stream",
     "text": [
      "X_train size (22801, 11),X_test: (9773, 11), Y_train: (22801,), Y_test (9773,)\n"
     ]
    }
   ],
   "source": [
    "#Applying train_test_split to split train and test data\n",
    "\n",
    "seed = 27\n",
    "size = 0.3\n",
    "X_train, X_test, Y_train, y_test = train_test_split(x, y, test_size=size, random_state=seed)\n",
    "\n",
    "print(f'X_train size {X_train.shape},X_test: {X_test.shape}, Y_train: {Y_train.shape}, Y_test {y_test.shape}')"
   ]
  },
  {
   "cell_type": "code",
   "execution_count": 59,
   "id": "7d501dfd",
   "metadata": {},
   "outputs": [
    {
     "data": {
      "text/plain": [
       "array([[0.24324324, 0.00652329, 0.66666667, ..., 0.07792208, 1.        ,\n",
       "        0.39285714],\n",
       "       [0.08108108, 0.00785938, 1.        , ..., 0.25974026, 1.        ,\n",
       "        0.07142857],\n",
       "       [0.08108108, 0.06974807, 0.        , ..., 0.18181818, 1.        ,\n",
       "        0.        ],\n",
       "       ...,\n",
       "       [0.21621622, 0.02750783, 0.        , ..., 0.32467532, 0.        ,\n",
       "        0.53571429],\n",
       "       [0.14864865, 0.01571876, 1.        , ..., 0.28571429, 0.        ,\n",
       "        0.21428571],\n",
       "       [0.17567568, 0.01540438, 0.        , ..., 0.23376623, 0.        ,\n",
       "        0.10714286]])"
      ]
     },
     "execution_count": 59,
     "metadata": {},
     "output_type": "execute_result"
    }
   ],
   "source": [
    "#Applying Normalization\n",
    "\n",
    "from sklearn.preprocessing import MinMaxScaler\n",
    "scaler = MinMaxScaler().fit(X_train)\n",
    "X_train_norm = scaler.transform(X_train)\n",
    "X_test_norm = scaler.transform(X_test)\n",
    "\n",
    "#X_train scaled\n",
    "X_train_norm"
   ]
  },
  {
   "cell_type": "code",
   "execution_count": 60,
   "id": "ecacd01a",
   "metadata": {},
   "outputs": [
    {
     "data": {
      "text/plain": [
       "array([[0.24324324, 0.00652329, 0.66666667, ..., 0.07792208, 1.        ,\n",
       "        0.39285714],\n",
       "       [0.08108108, 0.00785938, 1.        , ..., 0.25974026, 1.        ,\n",
       "        0.07142857],\n",
       "       [0.08108108, 0.06974807, 0.        , ..., 0.18181818, 1.        ,\n",
       "        0.        ],\n",
       "       ...,\n",
       "       [0.21621622, 0.02750783, 0.        , ..., 0.32467532, 0.        ,\n",
       "        0.53571429],\n",
       "       [0.14864865, 0.01571876, 1.        , ..., 0.28571429, 0.        ,\n",
       "        0.21428571],\n",
       "       [0.17567568, 0.01540438, 0.        , ..., 0.23376623, 0.        ,\n",
       "        0.10714286]])"
      ]
     },
     "execution_count": 60,
     "metadata": {},
     "output_type": "execute_result"
    }
   ],
   "source": [
    "#X_test scaled\n",
    "X_test_norm"
   ]
  },
  {
   "cell_type": "code",
   "execution_count": 61,
   "id": "c85335e9",
   "metadata": {},
   "outputs": [
    {
     "name": "stdout",
     "output_type": "stream",
     "text": [
      "Accuracy train data: 84.40%\n"
     ]
    }
   ],
   "source": [
    "#Machine Learning Model Trainning\n",
    "\n",
    "#Logistic Regression\n",
    "modelo = LogisticRegression(random_state=42)\n",
    "modelo.fit(X_train_norm, Y_train)\n",
    "score = modelo.score(X_train_norm, Y_train)\n",
    "print('Accuracy train data: %.2f%%' % (score * 100))"
   ]
  },
  {
   "cell_type": "code",
   "execution_count": 62,
   "id": "7e0f8d57",
   "metadata": {},
   "outputs": [
    {
     "data": {
      "text/plain": [
       "array([0, 0, 0, ..., 0, 0, 0], dtype=int64)"
      ]
     },
     "execution_count": 62,
     "metadata": {},
     "output_type": "execute_result"
    }
   ],
   "source": [
    "predict = modelo.predict(X_test_norm)\n",
    "predict"
   ]
  },
  {
   "cell_type": "code",
   "execution_count": 67,
   "id": "9cf1f31b",
   "metadata": {},
   "outputs": [
    {
     "name": "stdout",
     "output_type": "stream",
     "text": [
      "Accuracy predict: 84.65%\n",
      "Precision: 73.97%\n",
      "Recall: 45.07%\n",
      "F1_score: 56.01%\n"
     ]
    }
   ],
   "source": [
    "from sklearn.metrics import accuracy_score\n",
    "from sklearn.metrics import precision_score\n",
    "from sklearn.metrics import recall_score\n",
    "from sklearn.metrics import f1_score\n",
    "accuracy = accuracy_score(y_test, predict)\n",
    "precision = precision_score(y_test, predict)\n",
    "recall = recall_score(y_test, predict)\n",
    "fscore = f1_score(y_test, predict)\n",
    "\n",
    "print('Accuracy predict: %.2f%%' % (accuracy * 100.0))\n",
    "print('Precision: %.2f%%' % (precision * 100.0))\n",
    "print('Recall: %.2f%%' % (recall * 100.0))\n",
    "print('F1_score: %.2f%%' % (fscore * 100.0))"
   ]
  },
  {
   "cell_type": "code",
   "execution_count": 73,
   "id": "248057c7",
   "metadata": {},
   "outputs": [
    {
     "data": {
      "image/png": "[encoded data removed]",
      "text/plain": [
       "<Figure size 360x360 with 1 Axes>"
      ]
     },
     "metadata": {
      "needs_background": "light"
     },
     "output_type": "display_data"
    }
   ],
   "source": [
    "#Confusion Matrix\n",
    "from sklearn.metrics import confusion_matrix\n",
    "\n",
    "plt.figure(figsize=(5,5))\n",
    "\n",
    "sns.heatmap(confusion_matrix(y_test,predict), annot=True, cmap='Blues', fmt='g', cbar=False)\n",
    "\n",
    "plt.title(\"Confusion Matrix\", fontsize=14, fontweight='bold')\n",
    "\n",
    "plt.show()"
   ]
  },
  {
   "cell_type": "code",
   "execution_count": 68,
   "id": "0b977bfa",
   "metadata": {},
   "outputs": [
    {
     "data": {
      "text/plain": [
       "RandomForestClassifier()"
      ]
     },
     "execution_count": 68,
     "metadata": {},
     "output_type": "execute_result"
    }
   ],
   "source": [
    "#Trainning with RandomForestClassifier\n",
    "clf = RandomForestClassifier(n_estimators=100)\n",
    "clf.fit(X_train, Y_train)"
   ]
  },
  {
   "cell_type": "code",
   "execution_count": 69,
   "id": "804a0a9d",
   "metadata": {},
   "outputs": [],
   "source": [
    "Y_predict_clf = clf.predict(X_test)"
   ]
  },
  {
   "cell_type": "code",
   "execution_count": 70,
   "id": "17b3f489",
   "metadata": {},
   "outputs": [
    {
     "name": "stdout",
     "output_type": "stream",
     "text": [
      "Accuracy predict: 92.92%\n",
      "Precision: 95.59%\n",
      "Recall: 70.60%\n",
      "F1_score: 81.22%\n"
     ]
    }
   ],
   "source": [
    "accuracy = accuracy_score(y_test, Y_predict_clf)\n",
    "precision = precision_score(y_test, Y_predict_clf)\n",
    "recall = recall_score(y_test, Y_predict_clf)\n",
    "fscore = f1_score(y_test, Y_predict_clf)\n",
    "\n",
    "print('Accuracy predict: %.2f%%' % (accuracy * 100.0))\n",
    "print('Precision: %.2f%%' % (precision * 100.0))\n",
    "print('Recall: %.2f%%' % (recall * 100.0))\n",
    "print('F1_score: %.2f%%' % (fscore * 100.0))"
   ]
  },
  {
   "cell_type": "code",
   "execution_count": 74,
   "id": "54c6ee1a",
   "metadata": {},
   "outputs": [
    {
     "data": {
      "image/png": "[encoded data removed]",
      "text/plain": [
       "<Figure size 360x360 with 1 Axes>"
      ]
     },
     "metadata": {
      "needs_background": "light"
     },
     "output_type": "display_data"
    }
   ],
   "source": [
    "plt.figure(figsize=(5,5))\n",
    "\n",
    "sns.heatmap(confusion_matrix(y_test,Y_predict_clf), annot=True, cmap='Blues', fmt='g', cbar=False)\n",
    "\n",
    "plt.title(\"Confusion Matrix\", fontsize=14, fontweight='bold')\n",
    "\n",
    "plt.show()"
   ]
  },
  {
   "cell_type": "code",
   "execution_count": 75,
   "id": "cfa0fce8",
   "metadata": {},
   "outputs": [],
   "source": [
    "#We had a better metrics using the RandomForestClassifier algorithm decreasing the false positive and negative results and promoting the increase the right results"
   ]
  },
  {
   "cell_type": "code",
   "execution_count": null,
   "id": "11e3d00a",
   "metadata": {},
   "outputs": [],
   "source": []
  }
 ],
 "metadata": {
  "kernelspec": {
   "display_name": "Python 3",
   "language": "python",
   "name": "python3"
  },
  "language_info": {
   "codemirror_mode": {
    "name": "ipython",
    "version": 3
   },
   "file_extension": ".py",
   "mimetype": "text/x-python",
   "name": "python",
   "nbconvert_exporter": "python",
   "pygments_lexer": "ipython3",
   "version": "3.8.8"
  }
 },
 "nbformat": 4,
 "nbformat_minor": 5
}
